{
 "cells": [
  {
   "cell_type": "code",
   "execution_count": 1,
   "metadata": {},
   "outputs": [],
   "source": [
    "import numpy as np\n",
    "import h5py\n",
    "import matplotlib.pyplot as plt\n",
    "\n",
    "import h5utils as mutils # An util to create h5 type file using images\n",
    "import logistic_regression_utils as lr #contains building blocks for logistic regression.\n",
    "\n",
    "%matplotlib inline\n",
    "plt.rcParams['figure.figsize'] = (5.0, 4.0) # set default size of plots\n",
    "plt.rcParams['image.interpolation'] = 'nearest'\n",
    "plt.rcParams['image.cmap'] = 'gray'\n",
    "%load_ext autoreload\n",
    "%autoreload 2"
   ]
  },
  {
   "cell_type": "code",
   "execution_count": 11,
   "metadata": {},
   "outputs": [
    {
     "name": "stdout",
     "output_type": "stream",
     "text": [
      "dataset/train/digit_0/*.png\n",
      "dataset/train/digit_1/*.png\n",
      "dataset/train/digit_2/*.png\n",
      "dataset/train/digit_3/*.png\n",
      "dataset/train/digit_4/*.png\n",
      "dataset/train/digit_5/*.png\n",
      "dataset/train/digit_6/*.png\n",
      "dataset/train/digit_7/*.png\n",
      "dataset/train/digit_8/*.png\n",
      "dataset/train/digit_9/*.png\n",
      "dataset/train/character_1_ka/*.png\n",
      "dataset/train/character_2_kha/*.png\n",
      "dataset/train/character_3_ga/*.png\n",
      "dataset/train/character_4_gha/*.png\n",
      "dataset/train/character_5_kna/*.png\n",
      "dataset/train/character_6_cha/*.png\n",
      "dataset/train/character_7_chha/*.png\n",
      "dataset/train/character_8_ja/*.png\n",
      "dataset/train/character_9_jha/*.png\n",
      "dataset/train/character_10_yna/*.png\n",
      "dataset/train/character_11_taamatar/*.png\n",
      "dataset/train/character_12_thaa/*.png\n",
      "dataset/train/character_13_daa/*.png\n",
      "dataset/train/character_14_dhaa/*.png\n",
      "dataset/train/character_15_adna/*.png\n",
      "dataset/train/character_16_tabala/*.png\n",
      "dataset/train/character_17_tha/*.png\n",
      "dataset/train/character_18_da/*.png\n",
      "dataset/train/character_19_dha/*.png\n",
      "dataset/train/character_20_na/*.png\n",
      "dataset/train/character_21_pa/*.png\n",
      "dataset/train/character_22_pha/*.png\n",
      "dataset/train/character_23_ba/*.png\n",
      "dataset/train/character_24_bha/*.png\n",
      "dataset/train/character_25_ma/*.png\n",
      "dataset/train/character_26_yaw/*.png\n",
      "dataset/train/character_27_ra/*.png\n",
      "dataset/train/character_28_la/*.png\n",
      "dataset/train/character_29_waw/*.png\n",
      "dataset/train/character_30_motosaw/*.png\n",
      "dataset/train/character_31_petchiryakha/*.png\n",
      "dataset/train/character_32_patalosaw/*.png\n",
      "dataset/train/character_33_ha/*.png\n",
      "dataset/train/character_34_chhya/*.png\n",
      "dataset/train/character_35_tra/*.png\n",
      "dataset/train/character_36_gya/*.png\n",
      "Train data: 1000/55200\n",
      "Train data: 2000/55200\n",
      "Train data: 3000/55200\n",
      "Train data: 4000/55200\n",
      "Train data: 5000/55200\n",
      "Train data: 6000/55200\n",
      "Train data: 7000/55200\n",
      "Train data: 8000/55200\n",
      "Train data: 9000/55200\n",
      "Train data: 10000/55200\n",
      "Train data: 11000/55200\n",
      "Train data: 12000/55200\n",
      "Train data: 13000/55200\n",
      "Train data: 14000/55200\n",
      "Train data: 15000/55200\n",
      "Train data: 16000/55200\n",
      "Train data: 17000/55200\n",
      "Train data: 18000/55200\n",
      "Train data: 19000/55200\n",
      "Train data: 20000/55200\n",
      "Train data: 21000/55200\n",
      "Train data: 22000/55200\n",
      "Train data: 23000/55200\n",
      "Train data: 24000/55200\n",
      "Train data: 25000/55200\n",
      "Train data: 26000/55200\n",
      "Train data: 27000/55200\n",
      "Train data: 28000/55200\n",
      "Train data: 29000/55200\n",
      "Train data: 30000/55200\n",
      "Train data: 31000/55200\n",
      "Train data: 32000/55200\n",
      "Train data: 33000/55200\n",
      "Train data: 34000/55200\n",
      "Train data: 35000/55200\n",
      "Train data: 36000/55200\n",
      "Train data: 37000/55200\n",
      "Train data: 38000/55200\n",
      "Train data: 39000/55200\n",
      "Train data: 40000/55200\n",
      "Train data: 41000/55200\n",
      "Train data: 42000/55200\n",
      "Train data: 43000/55200\n",
      "Train data: 44000/55200\n",
      "Train data: 45000/55200\n",
      "Train data: 46000/55200\n",
      "Train data: 47000/55200\n",
      "Train data: 48000/55200\n",
      "Train data: 49000/55200\n",
      "Train data: 50000/55200\n",
      "Train data: 51000/55200\n",
      "Train data: 52000/55200\n",
      "Train data: 53000/55200\n",
      "Train data: 54000/55200\n",
      "Train data: 55000/55200\n",
      "Validation data: 1000/18400\n",
      "Validation data: 2000/18400\n",
      "Validation data: 3000/18400\n",
      "Validation data: 4000/18400\n",
      "Validation data: 5000/18400\n",
      "Validation data: 6000/18400\n",
      "Validation data: 7000/18400\n",
      "Validation data: 8000/18400\n",
      "Validation data: 9000/18400\n",
      "Validation data: 10000/18400\n",
      "Validation data: 11000/18400\n",
      "Validation data: 12000/18400\n",
      "Validation data: 13000/18400\n",
      "Validation data: 14000/18400\n",
      "Validation data: 15000/18400\n",
      "Validation data: 16000/18400\n",
      "Validation data: 17000/18400\n",
      "Validation data: 18000/18400\n",
      "Test data: 1000/18400\n",
      "Test data: 2000/18400\n",
      "Test data: 3000/18400\n",
      "Test data: 4000/18400\n",
      "Test data: 5000/18400\n",
      "Test data: 6000/18400\n",
      "Test data: 7000/18400\n",
      "Test data: 8000/18400\n",
      "Test data: 9000/18400\n",
      "Test data: 10000/18400\n",
      "Test data: 11000/18400\n",
      "Test data: 12000/18400\n",
      "Test data: 13000/18400\n",
      "Test data: 14000/18400\n",
      "Test data: 15000/18400\n",
      "Test data: 16000/18400\n",
      "Test data: 17000/18400\n",
      "Test data: 18000/18400\n"
     ]
    }
   ],
   "source": [
    "mutils.images_to_h5()"
   ]
  },
  {
   "cell_type": "code",
   "execution_count": 12,
   "metadata": {},
   "outputs": [],
   "source": [
    "hdf5_path = 'dataset/dataset.hdf5'\n",
    "subtract_mean = False\n",
    "\n",
    "# open the hdf5 file\n",
    "hdf5_file = h5py.File(hdf5_path, \"r\")\n",
    "\n",
    "# subtract the training mean\n",
    "if subtract_mean:\n",
    "    mm = hdf5_file[\"train_mean\"][0, ...]\n",
    "    mm = mm[np.newaxis, ...]\n",
    "\n",
    "# Total number of samples\n",
    "data_num = hdf5_file[\"train_img\"].shape[0]\n"
   ]
  },
  {
   "cell_type": "code",
   "execution_count": 16,
   "metadata": {},
   "outputs": [],
   "source": [
    "train_set_x_orig = hdf5_file[\"train_img\"]\n",
    "train_labels = hdf5_file[\"train_labels\"]\n",
    "train_set_y = np.zeros((55200, 46))\n",
    "train_set_y[np.arange(55200), train_labels] = 1\n",
    "\n",
    "test_set_x_orig = hdf5_file[\"test_img\"]\n",
    "test_labels = hdf5_file[\"test_labels\"]\n",
    "test_set_y = np.zeros((18400, 46))\n",
    "test_set_y[np.arange(18400), test_labels] = 1\n",
    "\n",
    "val_set_x_orig = hdf5_file[\"val_img\"]\n",
    "val_labels = hdf5_file[\"val_labels\"]\n",
    "val_set_y = np.zeros((18400, 46))\n",
    "val_set_y[np.arange(18400), val_labels] = 1\n",
    "\n",
    "train_set_y = train_set_y.T\n",
    "test_set_y = test_set_y.T\n",
    "val_set_y = val_set_y.T\n"
   ]
  },
  {
   "cell_type": "code",
   "execution_count": 1,
   "metadata": {},
   "outputs": [
    {
     "ename": "NameError",
     "evalue": "name 'train_set_x_orig' is not defined",
     "output_type": "error",
     "traceback": [
      "\u001b[0;31m---------------------------------------------------------------------------\u001b[0m",
      "\u001b[0;31mNameError\u001b[0m                                 Traceback (most recent call last)",
      "\u001b[0;32m<ipython-input-1-13cda8f27b59>\u001b[0m in \u001b[0;36m<module>\u001b[0;34m()\u001b[0m\n\u001b[1;32m      1\u001b[0m \u001b[0mindex\u001b[0m \u001b[0;34m=\u001b[0m \u001b[0;36m67\u001b[0m\u001b[0;34m\u001b[0m\u001b[0m\n\u001b[0;32m----> 2\u001b[0;31m \u001b[0mprint\u001b[0m\u001b[0;34m(\u001b[0m\u001b[0mtrain_set_x_orig\u001b[0m\u001b[0;34m.\u001b[0m\u001b[0mshape\u001b[0m\u001b[0;34m)\u001b[0m\u001b[0;34m\u001b[0m\u001b[0m\n\u001b[0m\u001b[1;32m      3\u001b[0m \u001b[0mplt\u001b[0m\u001b[0;34m.\u001b[0m\u001b[0mimshow\u001b[0m\u001b[0;34m(\u001b[0m\u001b[0mtrain_set_x_orig\u001b[0m\u001b[0;34m[\u001b[0m\u001b[0mindex\u001b[0m\u001b[0;34m]\u001b[0m\u001b[0;34m)\u001b[0m\u001b[0;34m\u001b[0m\u001b[0m\n\u001b[1;32m      4\u001b[0m \u001b[0mprint\u001b[0m \u001b[0;34m(\u001b[0m\u001b[0;34m\"y = \"\u001b[0m \u001b[0;34m+\u001b[0m \u001b[0mstr\u001b[0m\u001b[0;34m(\u001b[0m\u001b[0mtrain_set_y\u001b[0m\u001b[0;34m[\u001b[0m\u001b[0;34m:\u001b[0m\u001b[0;34m,\u001b[0m \u001b[0mindex\u001b[0m\u001b[0;34m]\u001b[0m\u001b[0;34m)\u001b[0m \u001b[0;34m)\u001b[0m\u001b[0;34m\u001b[0m\u001b[0m\n",
      "\u001b[0;31mNameError\u001b[0m: name 'train_set_x_orig' is not defined"
     ]
    }
   ],
   "source": [
    "index = 67\n",
    "print(train_set_x_orig.shape)\n",
    "plt.imshow(train_set_x_orig[index])\n",
    "print (\"y = \" + str(train_set_y[:, index]) )"
   ]
  },
  {
   "cell_type": "code",
   "execution_count": 20,
   "metadata": {},
   "outputs": [
    {
     "name": "stdout",
     "output_type": "stream",
     "text": [
      "Number of training examples: m_train = 55200\n",
      "Number of testing examples: m_test = 18400\n",
      "Height/Width of each image: num_px = 32\n",
      "Each image is of size: (32, 32\n",
      "train_set_x shape: (55200, 32, 32)\n",
      "train_set_y shape: (46, 55200)\n",
      "test_set_x shape: (18400, 32, 32)\n",
      "test_set_y shape: (46, 18400)\n"
     ]
    }
   ],
   "source": [
    "m_train = train_set_x_orig.shape[0]\n",
    "m_test = test_set_x_orig.shape[0]\n",
    "num_px = train_set_x_orig.shape[1]\n",
    "\n",
    "print (\"Number of training examples: m_train = \" + str(m_train))\n",
    "print (\"Number of testing examples: m_test = \" + str(m_test))\n",
    "print (\"Height/Width of each image: num_px = \" + str(num_px))\n",
    "print (\"Each image is of size: (\" + str(num_px) + \", \" + str(num_px))\n",
    "print (\"train_set_x shape: \" + str(train_set_x_orig.shape))\n",
    "print (\"train_set_y shape: \" + str(train_set_y.shape))\n",
    "print (\"test_set_x shape: \" + str(test_set_x_orig.shape))\n",
    "print (\"test_set_y shape: \" + str(test_set_y.shape))"
   ]
  },
  {
   "cell_type": "code",
   "execution_count": 21,
   "metadata": {},
   "outputs": [
    {
     "name": "stdout",
     "output_type": "stream",
     "text": [
      "train_set_x_flatten shape: (1024, 55200)\n",
      "train_set_y shape: (46, 55200)\n",
      "test_set_x_flatten shape: (1024, 18400)\n",
      "test_set_y shape: (46, 18400)\n",
      "sanity check after reshaping: [0 0 0 0 0 0 0 0 0 0]\n"
     ]
    }
   ],
   "source": [
    "train_set_x_flatten = np.array(train_set_x_orig).reshape(train_set_x_orig.shape[0] , -1).T\n",
    "test_set_x_flatten = np.array(test_set_x_orig).reshape(test_set_x_orig.shape[0] , -1).T\n",
    "val_set_x_flatten = np.array(val_set_x_orig).reshape(val_set_x_orig.shape[0] , -1).T\n",
    "\n",
    "print (\"train_set_x_flatten shape: \" + str(train_set_x_flatten.shape))\n",
    "print (\"train_set_y shape: \" + str(train_set_y.shape))\n",
    "print (\"test_set_x_flatten shape: \" + str(test_set_x_flatten.shape))\n",
    "print (\"test_set_y shape: \" + str(test_set_y.shape))\n",
    "print (\"sanity check after reshaping: \" + str(train_set_x_flatten[40:50,45]))"
   ]
  },
  {
   "cell_type": "code",
   "execution_count": 22,
   "metadata": {},
   "outputs": [],
   "source": [
    "train_set_x = train_set_x_flatten/127.\n",
    "test_set_x = test_set_x_flatten/127.\n",
    "val_set_x = val_set_x_flatten/127."
   ]
  },
  {
   "cell_type": "code",
   "execution_count": 24,
   "metadata": {},
   "outputs": [
    {
     "name": "stdout",
     "output_type": "stream",
     "text": [
      "Cost after iteration 0: 31.884770\n",
      "Cost after iteration 100: 4.843883\n",
      "Cost after iteration 200: 4.590878\n",
      "Cost after iteration 300: 4.385925\n",
      "Cost after iteration 400: 4.205091\n",
      "Cost after iteration 500: 4.045360\n",
      "Cost after iteration 600: 3.904055\n",
      "Cost after iteration 700: 3.778701\n",
      "Cost after iteration 800: 3.667136\n",
      "Cost after iteration 900: 3.567504\n",
      "Cost after iteration 1000: 3.478215\n",
      "Cost after iteration 1100: 3.397906\n",
      "Cost after iteration 1200: 3.325412\n",
      "Cost after iteration 1300: 3.259737\n",
      "Cost after iteration 1400: 3.200028\n",
      "Cost after iteration 1500: 3.145556\n",
      "Cost after iteration 1600: 3.095697\n",
      "Cost after iteration 1700: 3.049913\n",
      "Cost after iteration 1800: 3.007742\n",
      "Cost after iteration 1900: 2.968783\n",
      "Cost after iteration 2000: 2.932693\n",
      "Cost after iteration 2100: 2.899168\n",
      "Cost after iteration 2200: 2.867949\n",
      "Cost after iteration 2300: 2.838806\n",
      "Cost after iteration 2400: 2.811538\n",
      "Cost after iteration 2500: 2.785969\n",
      "Cost after iteration 2600: 2.761944\n",
      "Cost after iteration 2700: 2.739324\n",
      "Cost after iteration 2800: 2.717988\n",
      "Cost after iteration 2900: 2.697826\n",
      "train accuracy: 98.37436988027726 %\n",
      "test accuracy: 98.31521739130434 %\n"
     ]
    }
   ],
   "source": [
    "d = lr.model(train_set_x, train_set_y, test_set_x, test_set_y, num_iterations = 3000, learning_rate = 0.005, print_cost = True)\n"
   ]
  },
  {
   "cell_type": "code",
   "execution_count": 25,
   "metadata": {},
   "outputs": [
    {
     "data": {
      "image/png": "[encoded data removed]",
      "text/plain": [
       "<Figure size 432x288 with 1 Axes>"
      ]
     },
     "metadata": {},
     "output_type": "display_data"
    }
   ],
   "source": [
    "# Plot learning curve (with costs)\n",
    "costs = np.squeeze(d['costs'])\n",
    "plt.plot(costs)\n",
    "plt.ylabel('cost')\n",
    "plt.xlabel('iterations (per hundreds)')\n",
    "plt.title(\"Learning rate =\" + str(d[\"learning_rate\"]))\n",
    "plt.show()"
   ]
  },
  {
   "cell_type": "code",
   "execution_count": 26,
   "metadata": {},
   "outputs": [
    {
     "name": "stdout",
     "output_type": "stream",
     "text": [
      "Validation accuracy: 98.34428166351607 %\n"
     ]
    }
   ],
   "source": [
    "Y_Val_pred = lr.predict(d[\"w\"], d[\"b\"], val_set_x)\n",
    "\n",
    "#print(Y_Val_pred)\n",
    "print(\"Validation accuracy: {} %\".format(100 - np.mean(np.abs(Y_Val_pred - val_set_y)) * 100))"
   ]
  },
  {
   "cell_type": "code",
   "execution_count": 33,
   "metadata": {},
   "outputs": [
    {
     "name": "stdout",
     "output_type": "stream",
     "text": [
      "y = [0. 0. 0. 0. 0. 0. 0. 0. 0. 0. 0. 0. 1. 0. 0. 0. 0. 0. 0. 0. 0. 0. 0. 0.\n",
      " 0. 0. 0. 0. 0. 0. 0. 0. 0. 0. 0. 0. 0. 0. 0. 0. 0. 0. 0. 0. 0. 0.]\n",
      "  = [0. 0. 0. 0. 0. 0. 0. 0. 0. 0. 0. 0. 1. 0. 0. 0. 0. 0. 0. 0. 0. 0. 0. 0.\n",
      " 0. 0. 0. 0. 0. 0. 0. 0. 0. 0. 0. 0. 0. 0. 0. 0. 0. 0. 0. 0. 0. 0.]\n"
     ]
    },
    {
     "data": {
      "image/png": "[encoded data removed]",
      "text/plain": [
       "<Figure size 432x288 with 1 Axes>"
      ]
     },
     "metadata": {},
     "output_type": "display_data"
    }
   ],
   "source": [
    "index = 657\n",
    "plt.imshow(val_set_x_orig[index])\n",
    "print (\"y = \" + str(Y_Val_pred[:, index]) )\n",
    "print (\"  = \" + str(val_set_y[:, index]) )"
   ]
  },
  {
   "cell_type": "code",
   "execution_count": 34,
   "metadata": {},
   "outputs": [],
   "source": [
    "hdf5_file.close()"
   ]
  },
  {
   "cell_type": "code",
   "execution_count": null,
   "metadata": {},
   "outputs": [],
   "source": []
  }
 ],
 "metadata": {
  "kernelspec": {
   "display_name": "Python 3",
   "language": "python",
   "name": "python3"
  },
  "language_info": {
   "codemirror_mode": {
    "name": "ipython",
    "version": 3
   },
   "file_extension": ".py",
   "mimetype": "text/x-python",
   "name": "python",
   "nbconvert_exporter": "python",
   "pygments_lexer": "ipython3",
   "version": "3.6.5"
  }
 },
 "nbformat": 4,
 "nbformat_minor": 2
}
